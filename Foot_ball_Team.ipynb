{
 "cells": [
  {
   "cell_type": "code",
   "execution_count": 1,
   "metadata": {},
   "outputs": [],
   "source": [
    "import selenium\n",
    "import pandas as pd\n",
    "import time\n",
    "from selenium import webdriver\n",
    "from selenium.common.exceptions import StaleElementReferenceException,NoSuchElementException,ElementNotInteractableException\n",
    "import requests"
   ]
  },
  {
   "cell_type": "code",
   "execution_count": 3,
   "metadata": {},
   "outputs": [],
   "source": [
    "driver = webdriver.Chrome(r'C:\\Users\\USER\\Downloads\\chromedriver_win32 (3)\\chromedriver.exe')\n",
    "url = 'https://www.uefa.com/uefachampionsleague/clubs/'\n",
    "driver.get(url)"
   ]
  },
  {
   "cell_type": "code",
   "execution_count": 28,
   "metadata": {},
   "outputs": [],
   "source": [
    "team = []\n",
    "goals_per_match = []\n",
    "posession = []\n",
    "balls_recovered = []\n",
    "clean_sheet = []\n",
    "distance_covered = []\n",
    "red_card = []\n",
    "goals_conceded = []\n",
    "passing_accuracy = []\n",
    "tackle_won =[]\n",
    "saves = []\n",
    "yellow_card = []\n"
   ]
  },
  {
   "cell_type": "code",
   "execution_count": 5,
   "metadata": {},
   "outputs": [],
   "source": [
    "url = []\n",
    "team_elements = driver.find_elements_by_xpath(\"//a[@class='team-wrap']\")\n",
    "for i in range(2):\n",
    "    url.append(team_elements[i].get_attribute(\"href\"))"
   ]
  },
  {
   "cell_type": "code",
   "execution_count": 6,
   "metadata": {},
   "outputs": [
    {
     "data": {
      "text/plain": [
       "['https://www.uefa.com/uefachampionsleague/clubs/50138--inter/',\n",
       " 'https://www.uefa.com/uefachampionsleague/clubs/52919--man-city/']"
      ]
     },
     "execution_count": 6,
     "metadata": {},
     "output_type": "execute_result"
    }
   ],
   "source": [
    "url"
   ]
  },
  {
   "cell_type": "code",
   "execution_count": 29,
   "metadata": {},
   "outputs": [],
   "source": [
    "for i in url:\n",
    "    driver.get(i)\n",
    "    time.sleep(3)\n",
    "    \n",
    "    \n",
    "    try:\n",
    "        j = driver.find_element_by_xpath('/html/body/div[2]/div/div/div[1]/div[1]/div/div/div/pk-identifier/h2/span[1]')\n",
    "        team.append(j.text)\n",
    "    except NoSuchElementException:\n",
    "        team.append('-')\n",
    "    \n",
    "    \n",
    "    try:\n",
    "        j = driver.find_element_by_xpath('/html/body/div[2]/div/div/div[2]/div[1]/pk-box[1]/div/div[2]/div[3]/pk-num-stat-item/div[1]')\n",
    "        goals_conceded.append(j.text)\n",
    "    except NoSuchElementException:\n",
    "        goals_conceded.append('-')\n",
    "        \n",
    "    try:\n",
    "        k = driver.find_element_by_xpath('/html/body/div[2]/div/div/div[2]/div[1]/pk-box[1]/div/div[2]/div[5]/pk-num-stat-item/div[1]')\n",
    "        passing_accuracy.append(k.text)\n",
    "    except NoSuchElementException:\n",
    "        passing_accuracy.append('-')\n",
    "        \n",
    "    try:\n",
    "        l = driver.find_element_by_xpath('/html/body/div[2]/div/div/div[2]/div[1]/pk-box[1]/div/div[2]/div[7]/pk-num-stat-item/div[1]')\n",
    "        tackle_won.append(l.text)\n",
    "    except NoSuchElementException:\n",
    "        tackle_won.append('-')\n",
    "        \n",
    "    try:\n",
    "        m = driver.find_element_by_xpath('/html/body/div[2]/div/div/div[2]/div[1]/pk-box[1]/div/div[2]/div[9]/pk-num-stat-item/div[1]')\n",
    "        saves.append(m.text)\n",
    "    except NoSuchElementException:\n",
    "        saves.append('-')\n",
    "        \n",
    "    try:\n",
    "        o = driver.find_element_by_xpath('/html/body/div[2]/div/div/div[2]/div[1]/pk-box[1]/div/div[2]/div[2]/pk-num-stat-item/div[1]')                       \n",
    "        goals_per_match.append(o.text)\n",
    "    except NoSuchElementException:\n",
    "        goals_per_match.append('-')\n",
    "        \n",
    "    try:\n",
    "        q =driver.find_element_by_xpath('/html/body/div[2]/div/div/div[2]/div[1]/pk-box[1]/div/div[2]/div[4]/pk-num-stat-item/div[1]')\n",
    "        posession.append(q.text)\n",
    "    except NoSuchElementException:\n",
    "        posession.append('-')\n",
    "        \n",
    "    try:\n",
    "        q =driver.find_element_by_xpath('/html/body/div[2]/div/div/div[2]/div[1]/pk-box[1]/div/div[2]/div[6]/pk-num-stat-item/div[1]')\n",
    "        balls_recovered.append(q.text)\n",
    "    except NoSuchElementException:\n",
    "        balls_recovered.append('-')\n",
    "        \n",
    "        \n",
    "    try:\n",
    "        q =driver.find_element_by_xpath('/html/body/div[2]/div/div/div[2]/div[1]/pk-box[1]/div/div[2]/div[8]/pk-num-stat-item/div[1]')\n",
    "        clean_sheet.append(q.text)\n",
    "    except NoSuchElementException:\n",
    "        clean_sheet.append('-')\n",
    "           \n",
    "        \n",
    "    try:\n",
    "        q =driver.find_element_by_xpath('/html/body/div[2]/div/div/div[2]/div[1]/pk-box[1]/div/div[2]/div[10]/pk-num-stat-item/div[1]')\n",
    "        distance_covered.append(q.text)\n",
    "    except NoSuchElementException:\n",
    "        distance_covered.append('-')\n",
    "        \n",
    "       \n",
    "    try:\n",
    "        q =driver.find_element_by_xpath('/html/body/div[2]/div/div/div[2]/div[1]/pk-box[1]/div/div[2]/div[12]/pk-num-stat-item/div[1]')\n",
    "        red_card.append(q.text)\n",
    "    except NoSuchElementException:\n",
    "        red_card.append('-')\n",
    "        \n",
    "    try:\n",
    "        q =driver.find_element_by_xpath('/html/body/div[2]/div/div/div[2]/div[1]/pk-box[1]/div/div[2]/div[11]/pk-num-stat-item/div[1]')\n",
    "        yellow_card.append(q.text)\n",
    "    except NoSuchElementException:\n",
    "        yellow_card.append('-')       "
   ]
  },
  {
   "cell_type": "code",
   "execution_count": 31,
   "metadata": {},
   "outputs": [
    {
     "data": {
      "text/html": [
       "<div>\n",
       "<style scoped>\n",
       "    .dataframe tbody tr th:only-of-type {\n",
       "        vertical-align: middle;\n",
       "    }\n",
       "\n",
       "    .dataframe tbody tr th {\n",
       "        vertical-align: top;\n",
       "    }\n",
       "\n",
       "    .dataframe thead th {\n",
       "        text-align: right;\n",
       "    }\n",
       "</style>\n",
       "<table border=\"1\" class=\"dataframe\">\n",
       "  <thead>\n",
       "    <tr style=\"text-align: right;\">\n",
       "      <th></th>\n",
       "      <th>Team</th>\n",
       "      <th>Goals Avg</th>\n",
       "      <th>Possession (%)</th>\n",
       "      <th>Balls recovered Avg</th>\n",
       "      <th>Distance covered (km)</th>\n",
       "      <th>Red cards</th>\n",
       "      <th>Goals conceded</th>\n",
       "      <th>Passing accuracy (%)</th>\n",
       "      <th>Tackles won</th>\n",
       "      <th>Saves</th>\n",
       "      <th>Yellow cards</th>\n",
       "    </tr>\n",
       "  </thead>\n",
       "  <tbody>\n",
       "    <tr>\n",
       "      <th>0</th>\n",
       "      <td>FC INTERNAZIONALE MILANO</td>\n",
       "      <td>19</td>\n",
       "      <td>46.42%</td>\n",
       "      <td>461</td>\n",
       "      <td>8</td>\n",
       "      <td>1</td>\n",
       "      <td>10</td>\n",
       "      <td>82.92%</td>\n",
       "      <td>83</td>\n",
       "      <td>45</td>\n",
       "      <td>24</td>\n",
       "    </tr>\n",
       "    <tr>\n",
       "      <th>1</th>\n",
       "      <td>MANCHESTER CITY FC</td>\n",
       "      <td>31</td>\n",
       "      <td>59.84%</td>\n",
       "      <td>449</td>\n",
       "      <td>7</td>\n",
       "      <td>1</td>\n",
       "      <td>5</td>\n",
       "      <td>90.42%</td>\n",
       "      <td>41</td>\n",
       "      <td>26</td>\n",
       "      <td>20</td>\n",
       "    </tr>\n",
       "  </tbody>\n",
       "</table>\n",
       "</div>"
      ],
      "text/plain": [
       "                       Team Goals Avg Possession (%) Balls recovered Avg  \\\n",
       "0  FC INTERNAZIONALE MILANO        19         46.42%                 461   \n",
       "1        MANCHESTER CITY FC        31         59.84%                 449   \n",
       "\n",
       "  Distance covered (km) Red cards Goals conceded Passing accuracy (%)  \\\n",
       "0                     8         1             10               82.92%   \n",
       "1                     7         1              5               90.42%   \n",
       "\n",
       "  Tackles won Saves Yellow cards  \n",
       "0          83    45           24  \n",
       "1          41    26           20  "
      ]
     },
     "execution_count": 31,
     "metadata": {},
     "output_type": "execute_result"
    }
   ],
   "source": [
    "df = pd.DataFrame({})\n",
    "df[\"Team\"] =  team\n",
    "df[\"Goals Avg\"] =goals_per_match\n",
    "df[\"Possession (%)\"] = posession\n",
    "df[\"Balls recovered Avg\"] = balls_recovered\n",
    "df[\"Distance covered (km)\"] = clean_sheet\n",
    "df[\"Red cards\"] = red_card\n",
    "df[\"Goals conceded\"] = goals_conceded\n",
    "df[\"Passing accuracy (%)\"] = passing_accuracy\n",
    "df[\"Tackles won\"] = tackle_won\n",
    "df[\"Saves\"] = saves\n",
    "df[\"Yellow cards\"] = yellow_card\n",
    "df"
   ]
  },
  {
   "cell_type": "code",
   "execution_count": 32,
   "metadata": {},
   "outputs": [
    {
     "name": "stdout",
     "output_type": "stream",
     "text": [
      "size of the data : (2, 11)\n",
      "Name of the coulmns: Index(['Team', 'Goals Avg', 'Possession (%)', 'Balls recovered Avg',\n",
      "       'Distance covered (km)', 'Red cards', 'Goals conceded',\n",
      "       'Passing accuracy (%)', 'Tackles won', 'Saves', 'Yellow cards'],\n",
      "      dtype='object')\n"
     ]
    }
   ],
   "source": [
    "print(\"size of the data :\",df.shape)\n",
    "print(\"Name of the coulmns:\",df.columns)"
   ]
  },
  {
   "cell_type": "code",
   "execution_count": 35,
   "metadata": {},
   "outputs": [
    {
     "data": {
      "text/plain": [
       "0"
      ]
     },
     "execution_count": 35,
     "metadata": {},
     "output_type": "execute_result"
    }
   ],
   "source": [
    "df.isnull().sum().sum()"
   ]
  },
  {
   "cell_type": "code",
   "execution_count": 36,
   "metadata": {},
   "outputs": [
    {
     "data": {
      "text/plain": [
       "Team                     object\n",
       "Goals Avg                object\n",
       "Possession (%)           object\n",
       "Balls recovered Avg      object\n",
       "Distance covered (km)    object\n",
       "Red cards                object\n",
       "Goals conceded           object\n",
       "Passing accuracy (%)     object\n",
       "Tackles won              object\n",
       "Saves                    object\n",
       "Yellow cards             object\n",
       "dtype: object"
      ]
     },
     "execution_count": 36,
     "metadata": {},
     "output_type": "execute_result"
    }
   ],
   "source": [
    "df.dtypes"
   ]
  },
  {
   "cell_type": "code",
   "execution_count": 37,
   "metadata": {},
   "outputs": [],
   "source": [
    "df[\"Goals Avg\"] = df[\"Goals Avg\"].astype(int)"
   ]
  },
  {
   "cell_type": "code",
   "execution_count": 39,
   "metadata": {},
   "outputs": [],
   "source": [
    "df[\"Possession (%)\"] = df[\"Possession (%)\"].str.strip(\"%\").astype(float)"
   ]
  },
  {
   "cell_type": "code",
   "execution_count": 41,
   "metadata": {},
   "outputs": [],
   "source": [
    "df[\"Balls recovered Avg\"] =df[\"Balls recovered Avg\"].astype(int)"
   ]
  },
  {
   "cell_type": "code",
   "execution_count": 42,
   "metadata": {},
   "outputs": [],
   "source": [
    "df[\"Distance covered (km)\"] =df[\"Distance covered (km)\"].astype(int)"
   ]
  },
  {
   "cell_type": "code",
   "execution_count": 43,
   "metadata": {},
   "outputs": [],
   "source": [
    "df[\"Red cards\"] =df[\"Red cards\"].astype(int)"
   ]
  },
  {
   "cell_type": "code",
   "execution_count": 44,
   "metadata": {},
   "outputs": [],
   "source": [
    "df[\"Goals conceded\"] =df[\"Goals conceded\"].astype(int)"
   ]
  },
  {
   "cell_type": "code",
   "execution_count": 47,
   "metadata": {},
   "outputs": [],
   "source": [
    "df[\"Passing accuracy (%)\"] =df[\"Passing accuracy (%)\"].str.strip(\"%\").astype(float)"
   ]
  },
  {
   "cell_type": "code",
   "execution_count": 48,
   "metadata": {},
   "outputs": [],
   "source": [
    "df[\"Tackles won\"] =df[\"Tackles won\"].astype(int)"
   ]
  },
  {
   "cell_type": "code",
   "execution_count": 49,
   "metadata": {},
   "outputs": [],
   "source": [
    "df[\"Saves\"] =df[\"Saves\"].astype(int)"
   ]
  },
  {
   "cell_type": "code",
   "execution_count": 50,
   "metadata": {},
   "outputs": [],
   "source": [
    "df[\"Yellow cards\"] =df[\"Yellow cards\"].astype(int)"
   ]
  },
  {
   "cell_type": "code",
   "execution_count": 51,
   "metadata": {},
   "outputs": [
    {
     "data": {
      "text/plain": [
       "Team                      object\n",
       "Goals Avg                  int32\n",
       "Possession (%)           float64\n",
       "Balls recovered Avg        int32\n",
       "Distance covered (km)      int32\n",
       "Red cards                  int32\n",
       "Goals conceded             int32\n",
       "Passing accuracy (%)     float64\n",
       "Tackles won                int32\n",
       "Saves                      int32\n",
       "Yellow cards               int32\n",
       "dtype: object"
      ]
     },
     "execution_count": 51,
     "metadata": {},
     "output_type": "execute_result"
    }
   ],
   "source": [
    "df.dtypes"
   ]
  },
  {
   "cell_type": "code",
   "execution_count": 52,
   "metadata": {},
   "outputs": [
    {
     "data": {
      "text/html": [
       "<div>\n",
       "<style scoped>\n",
       "    .dataframe tbody tr th:only-of-type {\n",
       "        vertical-align: middle;\n",
       "    }\n",
       "\n",
       "    .dataframe tbody tr th {\n",
       "        vertical-align: top;\n",
       "    }\n",
       "\n",
       "    .dataframe thead th {\n",
       "        text-align: right;\n",
       "    }\n",
       "</style>\n",
       "<table border=\"1\" class=\"dataframe\">\n",
       "  <thead>\n",
       "    <tr style=\"text-align: right;\">\n",
       "      <th></th>\n",
       "      <th>Goals Avg</th>\n",
       "      <th>Possession (%)</th>\n",
       "      <th>Balls recovered Avg</th>\n",
       "      <th>Distance covered (km)</th>\n",
       "      <th>Red cards</th>\n",
       "      <th>Goals conceded</th>\n",
       "      <th>Passing accuracy (%)</th>\n",
       "      <th>Tackles won</th>\n",
       "      <th>Saves</th>\n",
       "      <th>Yellow cards</th>\n",
       "    </tr>\n",
       "  </thead>\n",
       "  <tbody>\n",
       "    <tr>\n",
       "      <th>count</th>\n",
       "      <td>2.000000</td>\n",
       "      <td>2.000000</td>\n",
       "      <td>2.000000</td>\n",
       "      <td>2.000000</td>\n",
       "      <td>2.0</td>\n",
       "      <td>2.000000</td>\n",
       "      <td>2.000000</td>\n",
       "      <td>2.000000</td>\n",
       "      <td>2.000000</td>\n",
       "      <td>2.000000</td>\n",
       "    </tr>\n",
       "    <tr>\n",
       "      <th>mean</th>\n",
       "      <td>25.000000</td>\n",
       "      <td>53.130000</td>\n",
       "      <td>455.000000</td>\n",
       "      <td>7.500000</td>\n",
       "      <td>1.0</td>\n",
       "      <td>7.500000</td>\n",
       "      <td>86.670000</td>\n",
       "      <td>62.000000</td>\n",
       "      <td>35.500000</td>\n",
       "      <td>22.000000</td>\n",
       "    </tr>\n",
       "    <tr>\n",
       "      <th>std</th>\n",
       "      <td>8.485281</td>\n",
       "      <td>9.489373</td>\n",
       "      <td>8.485281</td>\n",
       "      <td>0.707107</td>\n",
       "      <td>0.0</td>\n",
       "      <td>3.535534</td>\n",
       "      <td>5.303301</td>\n",
       "      <td>29.698485</td>\n",
       "      <td>13.435029</td>\n",
       "      <td>2.828427</td>\n",
       "    </tr>\n",
       "    <tr>\n",
       "      <th>min</th>\n",
       "      <td>19.000000</td>\n",
       "      <td>46.420000</td>\n",
       "      <td>449.000000</td>\n",
       "      <td>7.000000</td>\n",
       "      <td>1.0</td>\n",
       "      <td>5.000000</td>\n",
       "      <td>82.920000</td>\n",
       "      <td>41.000000</td>\n",
       "      <td>26.000000</td>\n",
       "      <td>20.000000</td>\n",
       "    </tr>\n",
       "    <tr>\n",
       "      <th>25%</th>\n",
       "      <td>22.000000</td>\n",
       "      <td>49.775000</td>\n",
       "      <td>452.000000</td>\n",
       "      <td>7.250000</td>\n",
       "      <td>1.0</td>\n",
       "      <td>6.250000</td>\n",
       "      <td>84.795000</td>\n",
       "      <td>51.500000</td>\n",
       "      <td>30.750000</td>\n",
       "      <td>21.000000</td>\n",
       "    </tr>\n",
       "    <tr>\n",
       "      <th>50%</th>\n",
       "      <td>25.000000</td>\n",
       "      <td>53.130000</td>\n",
       "      <td>455.000000</td>\n",
       "      <td>7.500000</td>\n",
       "      <td>1.0</td>\n",
       "      <td>7.500000</td>\n",
       "      <td>86.670000</td>\n",
       "      <td>62.000000</td>\n",
       "      <td>35.500000</td>\n",
       "      <td>22.000000</td>\n",
       "    </tr>\n",
       "    <tr>\n",
       "      <th>75%</th>\n",
       "      <td>28.000000</td>\n",
       "      <td>56.485000</td>\n",
       "      <td>458.000000</td>\n",
       "      <td>7.750000</td>\n",
       "      <td>1.0</td>\n",
       "      <td>8.750000</td>\n",
       "      <td>88.545000</td>\n",
       "      <td>72.500000</td>\n",
       "      <td>40.250000</td>\n",
       "      <td>23.000000</td>\n",
       "    </tr>\n",
       "    <tr>\n",
       "      <th>max</th>\n",
       "      <td>31.000000</td>\n",
       "      <td>59.840000</td>\n",
       "      <td>461.000000</td>\n",
       "      <td>8.000000</td>\n",
       "      <td>1.0</td>\n",
       "      <td>10.000000</td>\n",
       "      <td>90.420000</td>\n",
       "      <td>83.000000</td>\n",
       "      <td>45.000000</td>\n",
       "      <td>24.000000</td>\n",
       "    </tr>\n",
       "  </tbody>\n",
       "</table>\n",
       "</div>"
      ],
      "text/plain": [
       "       Goals Avg  Possession (%)  Balls recovered Avg  Distance covered (km)  \\\n",
       "count   2.000000        2.000000             2.000000               2.000000   \n",
       "mean   25.000000       53.130000           455.000000               7.500000   \n",
       "std     8.485281        9.489373             8.485281               0.707107   \n",
       "min    19.000000       46.420000           449.000000               7.000000   \n",
       "25%    22.000000       49.775000           452.000000               7.250000   \n",
       "50%    25.000000       53.130000           455.000000               7.500000   \n",
       "75%    28.000000       56.485000           458.000000               7.750000   \n",
       "max    31.000000       59.840000           461.000000               8.000000   \n",
       "\n",
       "       Red cards  Goals conceded  Passing accuracy (%)  Tackles won  \\\n",
       "count        2.0        2.000000              2.000000     2.000000   \n",
       "mean         1.0        7.500000             86.670000    62.000000   \n",
       "std          0.0        3.535534              5.303301    29.698485   \n",
       "min          1.0        5.000000             82.920000    41.000000   \n",
       "25%          1.0        6.250000             84.795000    51.500000   \n",
       "50%          1.0        7.500000             86.670000    62.000000   \n",
       "75%          1.0        8.750000             88.545000    72.500000   \n",
       "max          1.0       10.000000             90.420000    83.000000   \n",
       "\n",
       "           Saves  Yellow cards  \n",
       "count   2.000000      2.000000  \n",
       "mean   35.500000     22.000000  \n",
       "std    13.435029      2.828427  \n",
       "min    26.000000     20.000000  \n",
       "25%    30.750000     21.000000  \n",
       "50%    35.500000     22.000000  \n",
       "75%    40.250000     23.000000  \n",
       "max    45.000000     24.000000  "
      ]
     },
     "execution_count": 52,
     "metadata": {},
     "output_type": "execute_result"
    }
   ],
   "source": [
    "df.describe()"
   ]
  },
  {
   "cell_type": "code",
   "execution_count": 54,
   "metadata": {},
   "outputs": [],
   "source": [
    "import numpy as np\n",
    "import matplotlib.pyplot as plt\n",
    "import seaborn as sns"
   ]
  },
  {
   "cell_type": "code",
   "execution_count": 58,
   "metadata": {},
   "outputs": [
    {
     "data": {
      "image/png": "[encoded data removed]",
      "text/plain": [
       "<Figure size 432x288 with 1 Axes>"
      ]
     },
     "metadata": {
      "needs_background": "light"
     },
     "output_type": "display_data"
    }
   ],
   "source": [
    "sns.barplot(x=df[\"Team\"], y=df[\"Passing accuracy (%)\"], hue = df[\"Distance covered (km)\"],palette = 'Set2_r')\n",
    "plt.xlabel('Team')\n",
    "plt.ylabel('Passing accuracy (%)')\n",
    "plt.show()"
   ]
  },
  {
   "cell_type": "markdown",
   "metadata": {},
   "source": [
    "Highest passing accuracy is done by Manchester city with less distance covered (per match)"
   ]
  },
  {
   "cell_type": "code",
   "execution_count": 64,
   "metadata": {},
   "outputs": [
    {
     "data": {
      "image/png": "[encoded data removed]",
      "text/plain": [
       "<Figure size 432x288 with 1 Axes>"
      ]
     },
     "metadata": {
      "needs_background": "light"
     },
     "output_type": "display_data"
    }
   ],
   "source": [
    "sns.barplot(x=df[\"Saves\"], y=df[\"Balls recovered Avg\"], hue = df[\"Team\"],palette = 'Set2_r')\n",
    "plt.xlabel('Saves')\n",
    "plt.ylabel('Balls recovered Avg')\n",
    "plt.show()"
   ]
  },
  {
   "cell_type": "markdown",
   "metadata": {},
   "source": [
    "Both Team are equal proportion"
   ]
  },
  {
   "cell_type": "code",
   "execution_count": 69,
   "metadata": {},
   "outputs": [
    {
     "data": {
      "text/plain": [
       "<AxesSubplot:xlabel='Yellow cards', ylabel='count'>"
      ]
     },
     "execution_count": 69,
     "metadata": {},
     "output_type": "execute_result"
    },
    {
     "data": {
      "image/png": "[encoded data removed]",
      "text/plain": [
       "<Figure size 432x288 with 1 Axes>"
      ]
     },
     "metadata": {
      "needs_background": "light"
     },
     "output_type": "display_data"
    }
   ],
   "source": [
    "sns.countplot(x = \"Yellow cards\", data = df,color = 'm',palette = [\"blue\",\"yellow\"])"
   ]
  },
  {
   "cell_type": "markdown",
   "metadata": {},
   "source": [
    "INTERNAZIONALE MILANO got 4 more than yellow cards than oposite team"
   ]
  },
  {
   "cell_type": "code",
   "execution_count": 73,
   "metadata": {},
   "outputs": [
    {
     "data": {
      "text/plain": [
       "<AxesSubplot:xlabel='Possession (%)', ylabel='Tackles won'>"
      ]
     },
     "execution_count": 73,
     "metadata": {},
     "output_type": "execute_result"
    },
    {
     "data": {
      "image/png": "[encoded data removed]",
      "text/plain": [
       "<Figure size 432x288 with 1 Axes>"
      ]
     },
     "metadata": {
      "needs_background": "light"
     },
     "output_type": "display_data"
    }
   ],
   "source": [
    "sns.barplot(y = \"Tackles won\", x=\"Possession (%)\", hue=\"Team\", data = df)"
   ]
  },
  {
   "cell_type": "markdown",
   "metadata": {},
   "source": [
    "As per the data we can conclude that Manchester is the best for the final and they got more possession Avg per match and nearset 100% passing accuracy"
   ]
  },
  {
   "cell_type": "code",
   "execution_count": null,
   "metadata": {},
   "outputs": [],
   "source": []
  }
 ],
 "metadata": {
  "kernelspec": {
   "display_name": "Python 3",
   "language": "python",
   "name": "python3"
  },
  "language_info": {
   "codemirror_mode": {
    "name": "ipython",
    "version": 3
   },
   "file_extension": ".py",
   "mimetype": "text/x-python",
   "name": "python",
   "nbconvert_exporter": "python",
   "pygments_lexer": "ipython3",
   "version": "3.8.5"
  }
 },
 "nbformat": 4,
 "nbformat_minor": 4
}
